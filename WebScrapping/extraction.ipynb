{
 "cells": [
  {
   "cell_type": "code",
   "execution_count": 1,
   "id": "613f8f29-a182-4346-8f39-bdfde42d0804",
   "metadata": {},
   "outputs": [],
   "source": [
    "import requests"
   ]
  },
  {
   "cell_type": "code",
   "execution_count": 2,
   "id": "ed214a98-2387-4fb4-9d36-6c6248792a65",
   "metadata": {},
   "outputs": [],
   "source": [
    "url = \"https://en.wikipedia.org/wiki/Hanging_Stone\"\n",
    "# url = \"https://sitare.org/\"\n",
    "# url = \"https://en.wikipedia.org/wiki/Taj_Mahal\"\n",
    "\n",
    "def fetch_html_content(url):\n",
    "    try:\n",
    "        response = requests.get(url)\n",
    "        return response.text\n",
    "    except requests.exceptions.RequestException as e:\n",
    "        print(f\"Error fetching content: {e}\")\n",
    "        return None\n",
    "html_content = fetch_html_content(url)"
   ]
  },
  {
   "cell_type": "code",
   "execution_count": 3,
   "id": "b7ed23be-17a3-49a9-a5a6-ab4752d40607",
   "metadata": {},
   "outputs": [
    {
     "data": {
      "text/plain": [
       "'Hanging Stone - Wikipedia'"
      ]
     },
     "execution_count": 3,
     "metadata": {},
     "output_type": "execute_result"
    }
   ],
   "source": [
    "def extract_title(html_content):\n",
    "    start = html_content.find(\"<title\")\n",
    "    end = html_content.find(\"</title\")\n",
    "    return html_content[start+7:end]\n",
    "extract_title(html_content)"
   ]
  },
  {
   "cell_type": "code",
   "execution_count": 4,
   "id": "84af86b1-e709-486b-9133-f793d4e78edc",
   "metadata": {},
   "outputs": [],
   "source": [
    "def extract_body(html_content):\n",
    "    start = html_content.find(\"<body\")\n",
    "    end = html_content.find(\"</body\")\n",
    "    return html_content[start:end]\n",
    "body_content = extract_body(html_content)\n",
    "# body_content"
   ]
  },
  {
   "cell_type": "code",
   "execution_count": 5,
   "id": "7b557038-f348-4406-b565-1e1edbdd1473",
   "metadata": {
    "scrolled": true
   },
   "outputs": [],
   "source": [
    "def extract_main_content(html_content):\n",
    "    inside_tag = False\n",
    "    inside_script = False\n",
    "    inside_style = False\n",
    "    inside_span = False\n",
    "    text_content = \" \"\n",
    "    \n",
    "    for i in range(len(html_content)):\n",
    "        \n",
    "        if html_content[i] == '<':\n",
    "            inside_tag = True\n",
    "            if html_content[i:i+6].lower() == '<style':\n",
    "                inside_style = True\n",
    "            elif html_content[i] == '<' and html_content[i:i+7].lower() == '</style':\n",
    "                inside_style = False\n",
    "            if html_content[i:i+7].lower() == '<script':\n",
    "                inside_script = True\n",
    "            elif html_content[i] == '<' and html_content[i:i+8].lower() == '</script':\n",
    "                inside_script = False\n",
    "            if html_content[i:i+5].lower() == '<span':\n",
    "                inside_span = True\n",
    "            elif html_content[i] == '<' and html_content[i:i+6].lower() == '</span':\n",
    "                inside_span = False\n",
    "        elif html_content[i] == '>':\n",
    "            inside_tag = False\n",
    "            continue\n",
    "        \n",
    "        if not inside_tag and not inside_script and not inside_style and not inside_span:\n",
    "            text_content += html_content[i]\n",
    "    \n",
    "    return text_content\n",
    "\n",
    "text_content = extract_main_content(body_content)\n",
    "# text_content"
   ]
  },
  {
   "cell_type": "code",
   "execution_count": 6,
   "id": "5c7d21e0-4199-4144-9b91-3900861e882c",
   "metadata": {},
   "outputs": [],
   "source": [
    "def remove_extra_spaces(text_content):\n",
    "    cleaned_data=\" \"\n",
    "    for i in range(len(text_content)):\n",
    "        if  text_content[i] in [\"\\n\",\"\\r\",\"\\t\"] and cleaned_data[-1] in [\"\\n\",\"\\r\",\"\\t\"]:\n",
    "            continue\n",
    "        cleaned_data += text_content[i]\n",
    "    return cleaned_data\n",
    "# print(remove_extra_spaces(text_content))"
   ]
  },
  {
   "cell_type": "code",
   "execution_count": 17,
   "id": "14492e06-b794-452b-a5fa-17ae5f725a73",
   "metadata": {},
   "outputs": [
    {
     "data": {
      "text/plain": [
       "'  Jump to content\\nMain menu\\nmove to sidebar\\nhide\\nNavigation\\nContribute\\nLanguages\\nLanguage links are at the top of the page.\\nSearch\\n  \\nPages for logged out editors \\nContents\\nmove to sidebar\\nhide\\n(Top)\\nBackground\\nLegend\\nDescription\\nReferences\\nTools\\nmove to sidebar\\nhide\\nActions\\nGeneral\\nPrint/export\\nIn other projects\\n \\nFrom Wikipedia, the free encyclopedia\\n Stone in Ergaki Nature Park, Russia\\nHanging Stone\\n    Hanging StoneCoordinates:  LocationErgaki Nature Park, Krasnoyarsk Krai, RussiaRangeErgaki (Sayan Mountains)Native name\\nThe Hanging Stone (Russian: ) is a 500-ton granite rock in Ergaki Nature Park, seemingly hanging 1,000m (3,300ft) above Lake Raduzhnoye.\\nThe Hanging Stone is on the edge of a cliff above Lake Raduzhnoye (Rainbow Lake) in the western Sayan Mountains in Krasnoyarsk Krai, Russia.1 The stone is an attraction in the Ergaki Nature Park.1\\nThe legend of the stone is thought to come from the Turkic peoples and Sayan aborigines. They believe that the world will end when the stone falls. The area features a chain of rocks or a ridge that appears to be a silhouette of a man lying on his back, which is said to represent a person from the legend known as \"Sleeping Sayan\".2 Local legend states that when the stone falls into Lake Raduzhnoye, the Sleeping Sayan will wake up. Another legend teaches that the monolithic stone is the heart of the Sleeping Sayan.3 People say that the stone vibrates, which is evidence of the beating heart.4 Some people also believe that the rock may represent the Russian mythical hero Svyatogor.4\\nSeveral groups of tourists have tried to dislodge the landmark by pushing it down the mountain, but without any success.4 Some people have even brought winches and jacks to try to dislodge the stone.4 It did not move at all; it is held on with stone chips supporting its base.3 The area also experiences frequent earthquakes, but the stone has not moved as of 2024.5\\nThe Hanging Stone, Western Sayan, Ergaki mountains\\nThe stone is perched on a precipice, giving the impression that it may fall. The weight of the stone is estimated at 500 tons.1 It is positioned approximately 1,000m (3,300ft) above the lake. The stone is 15m (49ft) long.6 At one time the stone reportedly swayed, but over time grooves became clogged and froze the stone in one place.4 \\nThere is a trail leading to the stone that can be navigated between June and September. The trail is 12km (7.5mi) long and takes five to seven hours. The Ergaki Nature Park charges 4,800 rubles for a guided tour to visit the stone.7 The weather in the region changes quickly and can even receive snowfall in the month of June.8\\n  2024.\\n  2024.\\n  2024.\\n  2024.\\n  2024.\\n  2024.\\n  2024.\\n  2024.\\nWikimedia Commons has media related to .\\n --\\nRetrieved from \"https://en.wikipedia.org/w/index.php?title=Hanging_Stone&amp;oldid=1204328166\"\\nCategories: Landforms of Krasnoyarsk KraiSayan MountainsIndividual rocksTourist attractions in SiberiaHidden categories: CS1 Russian-language sources (ru)Articles with short descriptionShort description is different from WikidataUse dmy dates from January 2024Articles containing Russian-language textCoordinates on WikidataPages using Infobox landform with no typeCommons category link is on Wikidata\\n This page was last edited on 6 February 2024, at 22:48.\\nText is available under the Creative Commons Attribution-ShareAlike License 4.0;\\nadditional terms may apply.  By using this site, you agree to the Terms of Use and Privacy Policy. Wikipedia® is a registered trademark of the Wikimedia Foundation, Inc., a non-profit organization.\\nPrivacy policy\\nAbout Wikipedia\\nDisclaimers\\nContact Wikipedia\\nCode of Conduct\\nDevelopers\\nStatistics\\nCookie statement\\nMobile view\\n \\n '"
      ]
     },
     "execution_count": 17,
     "metadata": {},
     "output_type": "execute_result"
    }
   ],
   "source": [
    "def cleaned_data(text):\n",
    "    data = \"\"\n",
    "    i = 0\n",
    "    while i < len(text)-1:\n",
    "        if text[i] == \"&\" and text[i+1] == \"#\":\n",
    "            t = text.find(\";\",i)\n",
    "            i = t+1\n",
    "            continue \n",
    "        data += text[i]\n",
    "        i += 1\n",
    "    return data    \n",
    "# cleaned_data(\"k Krai, Russia.&#91;1&#93; The stone \")\n",
    "cleaned_data(remove_extra_spaces(text_content))"
   ]
  },
  {
   "cell_type": "code",
   "execution_count": null,
   "id": "0b520519-5a16-40ee-8395-b29ad9462290",
   "metadata": {
    "scrolled": true
   },
   "outputs": [],
   "source": [
    "def extract_link(html_content):\n",
    "    tag = \"\"\n",
    "    i = 0\n",
    "    while i < len(html_content):\n",
    "        if html_content[i] == '<':\n",
    "            isTagOpen = True\n",
    "            \n",
    "        elif html_content[i] == '>':\n",
    "            isTagOpen = False\n",
    "\n",
    "        if isTagOpen :\n",
    "            tag += html_content[i]\n",
    "                \n",
    "        elif not isTagOpen :\n",
    "            checkLinks(tag)\n",
    "            tag = \"\"\n",
    "        i = i+1\n",
    "extract_link(html_content)"
   ]
  },
  {
   "cell_type": "code",
   "execution_count": null,
   "id": "9bca99cd-56cf-495f-a286-77a600e2f32c",
   "metadata": {},
   "outputs": [],
   "source": []
  }
 ],
 "metadata": {
  "kernelspec": {
   "display_name": "Python 3 (ipykernel)",
   "language": "python",
   "name": "python3"
  },
  "language_info": {
   "codemirror_mode": {
    "name": "ipython",
    "version": 3
   },
   "file_extension": ".py",
   "mimetype": "text/x-python",
   "name": "python",
   "nbconvert_exporter": "python",
   "pygments_lexer": "ipython3",
   "version": "3.10.12"
  },
  "widgets": {
   "application/vnd.jupyter.widget-state+json": {
    "state": {},
    "version_major": 2,
    "version_minor": 0
   }
  }
 },
 "nbformat": 4,
 "nbformat_minor": 5
}
