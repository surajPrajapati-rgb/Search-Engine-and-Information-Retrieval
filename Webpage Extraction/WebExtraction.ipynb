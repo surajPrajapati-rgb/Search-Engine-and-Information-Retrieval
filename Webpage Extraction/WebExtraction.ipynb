{
 "cells": [
  {
   "cell_type": "markdown",
   "id": "9d36b17a-0408-4e17-9fe7-617a46a28107",
   "metadata": {},
   "source": [
    "## Problem Statement"
   ]
  },
  {
   "cell_type": "markdown",
   "id": "89951e94-a20b-4ce0-ab6a-d0db5e7b2030",
   "metadata": {},
   "source": [
    "Write a python program that takes a URL on the command line, fetches the page, and outputs (as clearly demarked sections)\n",
    "- Page Title (without any HTML tags)\n",
    "- Page Body (without any html tags)\n",
    "- All the URLs that the page points/links to\n",
    "  \n",
    "Don't use any HTML parsing libraries, do Python from scratch"
   ]
  },
  {
   "cell_type": "code",
   "execution_count": 1,
   "id": "1a618fc2-4dd2-4d36-9e22-b7b462842e3d",
   "metadata": {},
   "outputs": [],
   "source": [
    "import requests"
   ]
  },
  {
   "cell_type": "code",
   "execution_count": 2,
   "id": "f2061f14-e1b3-4760-ba9b-810c1b622198",
   "metadata": {},
   "outputs": [
    {
     "data": {
      "text/plain": [
       "'<!DOCTYPE html>\\r\\n<html>\\r\\n   <head>\\r\\n         <link rel=\"canonical\" href=\"https://sitare.org/\">\\r\\n         <meta property=\"og:site_name\" content=\"Sitare Foundation | Education NGO by Shilpa and Amit Singhal.\">\\r\\n         <meta property=\"og:type\" content=\"article\">\\r\\n         <meta property=\"og:title\" content=\"Sitare Foundation | Education NGO by Shilpa and Amit Singhal\">\\r\\n         <meta property=\"og:url\" content=\"https://sitare.org/\">\\r\\n         <meta property=\"og:image\" content=\"https://sitare.org/assets/WebP/Sitare-Logo-Web@2x.webp\">\\r\\n         <meta property=\"article:published_time\" content=\"2020-06-25T21:23:05Z\">\\r\\n         <meta property=\"article:modified_time\" content=\"2021-10-20T16:24:20Z\">\\r\\n         <meta name=\"twitter:card\" content=\"summary\">\\r\\n         <meta name=\"twitter:description\" content=\"At the Sitare Foundation we believe in providing access to high quality education to the most talented underprivileged children.\">\\r\\n         <meta name=\"twitter:domain\" content=\"sitare.org\">\\r\\n         <meta name=\"twitter:title\" content=\"Sitare Foundation | Education NGO by Shilpa and Amit Singhal\">\\r\\n         <meta name=\"twitter:image\" content=\"https://sitare.org/assets/WebP/Sitare-Logo.webp\">\\r\\n         <title>Sitare Foundation | Education NGO by Shilpa and Amit Singhal</title>\\r\\n         <meta name=\"description\" content=\"Sitare Foundation is an Education NGO operating in India. At the Sitare Foundation we believe in providing access to high quality education to the most talented underprivileged children in our society. We have embarked upon a humble mission. Our mission is to Transform fifty thousand lives through education by 2050. \">\\r\\n         <meta name=\"keywords\" content=\"Sitare , Foudation, Education\">\\r\\n         <meta name=\"subject\" content=\"Education NGO by Shilpa and Amit Singhal\">\\r\\n         <link rel=\"icon\" type=\"image/png\" href=\"assets/WebP/Sitare-Logo.webp\">\\r\\n         <meta name=\"viewport\" content=\"width=device-width, initial-scale=1.0\">\\r\\n         <meta name=\"copyright\" content=\"Sitare Foundation\">\\r\\n         <meta name=\"language\" content=\"ES\">\\r\\n         <link rel=\"icon\" type=\"image/x-icon\" href=\"assets/fav.png\">\\r\\n         <!-----links----->\\r\\n         <link rel=\"stylesheet\" type=\"text/css\" href=\"assets/css/style.css\">\\r\\n         <link href=\"https://cdn.jsdelivr.net/npm/bootstrap@5.0.2/dist/css/bootstrap.min.css\" rel=\"stylesheet\" integrity=\"sha384-EVSTQN3/azprG1Anm3QDgpJLIm9Nao0Yz1ztcQTwFspd3yD65VohhpuuCOmLASjC\" crossorigin=\"anonymous\">\\r\\n         <link rel=\"preconnect\" href=\"https://fonts.googleapis.com\">\\r\\n         <link rel=\"preconnect\" href=\"https://fonts.gstatic.com\" crossorigin=\"\">\\r\\n         <link href=\"https://fonts.googleapis.com/css2?family=Quicksand:wght@300&amp;display=swap\" rel=\"stylesheet\">\\r\\n         <script src=\"https://kit.fontawesome.com/787c4c661d.js\" crossorigin=\"anonymous\"></script> \\r\\n         <link rel=\"preconnect\" href=\"https://fonts.googleapis.com\">\\r\\n         <link rel=\"preconnect\" href=\"https://fonts.gstatic.com\" crossorigin=\"\">\\r\\n         <link rel=\"preconnect\" href=\"https://fonts.googleapis.com\">\\r\\n         <link rel=\"preconnect\" href=\"https://fonts.gstatic.com\" crossorigin=\"\">\\r\\n         <link href=\"https://fonts.googleapis.com/css2?family=Montserrat:wght@300&amp;family=Quicksand:wght@500&amp;display=swap\" rel=\"stylesheet\">\\r\\n         <meta charset=\"UTF-8\">\\r\\n         <link rel=\"dns-prefetch\" href=\"//s.w.org\">\\r\\n         <link rel=\"alternate\" type=\"application/rss+xml\" title=\"Sitare Foundation » Feed\" href=\"https://sitare.org/feed/\">\\r\\n         <link rel=\"alternate\" type=\"application/rss+xml\" title=\"Sitare Foundation » Comments Feed\" href=\"https://sitare.org/comments/feed/\">\\r\\n    </head>\\r\\n    <div class=\"navigation navbar-static-top\">\\r\\n      <nav class=\"navbar navbar-expand-lg  \">\\r\\n         <div class=\"container-fluid\">\\r\\n            <a class=\"navbar-brand\" href=\"/index.php\"><img src=\"assets/WebP/Sitare-Logo-Web.webp\" alt=\"\" class=\"img-set\" /></a>\\r\\n            <button class=\"navbar-toggler\" type=\"button\" data-bs-toggle=\"collapse\" data-bs-target=\"#navbarNavDropdown\" aria-controls=\"navbarNavDropdown\" aria-expanded=\"false\" aria-label=\"Toggle navigation\">\\r\\n            <i class=\"fas fa-bars\"></i>\\r\\n            </button>\\r\\n            <div class=\"collapse navbar-collapse justify-content-end\" id=\"navbarNavDropdown\">\\r\\n               <ul class=\"navbar-nav \">\\r\\n                  <li class=\"nav-item\">\\r\\n                     <a class=\"nav-link\" href=\"team.php\">Team</a>\\r\\n                  </li>\\r\\n                  <li class=\"nav-item\">\\r\\n                     <a class=\"nav-link\" href=\"news.php\">News</a>\\r\\n                  </li>\\r\\n                  <li class=\"nav-item\">\\r\\n                     <a class=\"nav-link\" href=\"seniors.php\">US Students</a>\\r\\n                  </li>\\r\\n                  <li class=\"nav-item\">\\r\\n                     <a class=\"nav-link\" href=\"contact.php\"><span>Contact Us</span></a>\\r\\n                  </li>\\r\\n                  <li class=\"nav-item\">\\r\\n                     <a class=\"nav-link\" href=\"univ\">Sitare University</a>\\r\\n                  </li>\\r\\n            </ul>\\r\\n            </div>\\r\\n         </div>\\r\\n      </nav>\\r\\n   </div>\\r\\n   <body><div class=\"banner-section pt-6 \" style=\"margin-top:0\">\\r\\n   <div class=\"img-container top-banner\" >\\r\\n      <div class=\"container\">\\r\\n         <div class=\"p-relative\" style=\"height: 75vh;\">\\r\\n            <div class=\"img-txt col-sm-3 offset-sm-9\">\\r\\n               <h4 class=\" text-left\">Our humble mission</h4>\\r\\n               <p></p>\\r\\n               <h1 class=\" text-left\">Transform fifty thousand lives through education by 2050.</h1>\\r\\n            </div>\\r\\n         </div>\\r\\n      </div>\\r\\n   </div>\\r\\n</div>\\r\\n\\r\\n\\r\\n <div class=\"mission-section pt-5 \">\\r\\n   <div class=\"section-2\">\\r\\n      <div class=\"container width-80\">\\r\\n         <div class=\"row\">\\r\\n            <div class=\"col-lg-7 col-md-6 col-sm-6 col-xs-6\">\\r\\n               <div class=\"abt-edu \">\\r\\n                  <h4><a href=\"https://sitare.org/univ\" style=\"text-decoration:none\">Sitare University</a> - FREE Computer Science B.Tech. degrees to talented students.</h4><p>&nbsp;</p>\\r\\n                  <p class=\"justify-content\">\\r\\n                    Education is empowerment. Education gives us hope. Education has the power to uplift not only individuals, but the entire world. In today world, good education is not always accessible to the underprivileged in our society. There is tremendous potential and talent in these children, all they need is access to good education. At the Sitare Foundation, we believe in providing access to high quality education to the most talented underprivileged children in our society. We have embarked upon a humble mission. Our mission is to “Transform fifty thousand lives through education by 2050.”\\r\\n                  </p>\\r\\n                  <div class=\"contact\">\\r\\n                     <button class=\"btn\"><a href=\"contact.php\">Get in touch</a></button>\\r\\n                  </div>\\r\\n               </div>\\r\\n            </div>\\r\\n            <div class=\"col-lg-5 col-md-6 col-sm-6 col-xs-6 d-flex align-items-center mb-4\">\\r\\n               <div class=\"shadow p-3\">\\r\\n                  <div class=\"row\">\\r\\n                     <div class=\"col-lg-12 col-sm-12\">\\r\\n                        <img class=\"left\" src=\"assets/WebP/barack-obama.webp\" class=\"responsiv\">\\r\\n                        <div class=\"right\">\\r\\n                           <h5 class=\"pt-2 mt-2 pl-3\"><strong>Barack Obama</strong></h5>\\r\\n                           <p>44th President of the United States</p>\\r\\n                        </div>\\r\\n                     </div>\\r\\n                  </div>\\r\\n                  <div class=\"info pt-2 text-center\">\\r\\n                     <p>\"The best anti-poverty program is a world-class education.\"</p>\\r\\n                  </div>\\r\\n               </div>\\r\\n            </div>\\r\\n         </div>\\r\\n      </div>\\r\\n   </div>\\r\\n</div>\\r\\n\\r\\n\\r\\n <div class=\"transforming-lives my-3 py-5\">\\r\\n   <div class=\"container\">\\r\\n      <div class=\"section-1 pb-5\">\\r\\n         <h3 class=\"text-center color-b mb-0 pb-0\">Transforming Lives</h3>\\r\\n         <div class=\"h-line text-center mt-0 pt-0\">\\r\\n            <span class=\"borderbottom\"></span>\\r\\n         </div>\\r\\n      </div>\\r\\n      <div id=\"carouselExampleControls\" class=\"carousel slide\" data-bs-ride=\"carousel\">\\r\\n         <div class=\"carousel-inner\">\\r\\n            <div class=\"carousel-item active\">\\r\\n               <div class=\"row\">\\r\\n                  <div class=\"col-lg-7 col-md-7 col-sm-12 col-xs-12\">\\r\\n                     <div  class=\"about-video  p-relative\">\\r\\n                        <img src=\"assets/WebP/mahendra.webp\" class=\"img-fluid\" alt=\"\">\\r\\n                        <a href=\"https://youtu.be/VZg4VAyUjVs\" class=\"play-btn mb-4 vbox-item\" data-vbtype=\"video\" data-autoplay=\"true\" target=\"_blank\"></a>\\r\\n                     </div>\\r\\n                  </div>\\r\\n                  <div class=\"d-flex align-items-center col-lg-5 col-md-5 col-sm-12 col-xs-12\">\\r\\n                     <div class=\"video-details\">\\r\\n                        <p class=\"justify-content\">\\r\\n                           Mahendra was born and raised in a small town, Chohtan in Barmer District, Western Rajasthan. His father works in a sheet metal factory rolling stainless steel sheets. His elder brother also works in the same factory. They have a very large family to support, and if Mahendra didn\\'t get an opportunity to study in Sitare Foundation, he would probably be working in the same factory today to support his family. \"I got an opportunity to be a part of the organization where I met some of the most motivated young people, who were nurtured by the Sitare Foundation to dream higher.\"\\r\\n                        </p>\\r\\n                     </div>\\r\\n                  </div>\\r\\n               </div>\\r\\n            </div>\\r\\n            <div class=\"carousel-item \">\\r\\n               <div class=\"row\">\\r\\n                  <div class=\"col-lg-7 col-md-7 col-sm-12 col-xs-12\">\\r\\n                     <div  class=\"about-video  p-relative\">\\r\\n                        <img src=\"assets/WebP/kusum.webp\" class=\"img-fluid\" alt=\"\">\\r\\n                        <a href=\"https://youtu.be/NDPGA0gC7oo\" class=\"play-btn mb-4 vbox-item\" data-vbtype=\"video\" data-autoplay=\"true\" target=\"_blank\"></a>\\r\\n                     </div>\\r\\n                  </div>\\r\\n                  <div class=\"d-flex align-items-center col-lg-5 col-md-5 col-sm-12 col-xs-12\">\\r\\n                     <div class=\"video-details\">\\r\\n                        <p class=\"justify-content pt-2\">\\r\\n                           Kusum is a poor farmer\\'s daughter. Her family does not own the land they farm, they just work there, while the landowner keeps the lion share of the earnings. They only get 30 cents on a dollar of crops sold. \\r\\n                           \"In my community, women are seldom sent to school, but my parents believe in education. They knew that education, especially women\\'s education, is the only way out of generational poverty. For me, the path to education was never easy. From a young age, I have contributed to the farm work, from milking cows, to cooking, tilling the fields, I did whatever was needed to help my family.\"\\r\\n                        </p>\\r\\n                     </div>\\r\\n                  </div>\\r\\n               </div>\\r\\n            </div>\\r\\n            <div class=\"carousel-item\">\\r\\n               <div class=\"row\">\\r\\n                  <div class=\"col-lg-7 col-md-7 col-sm-12 col-xs-12\">\\r\\n                     <div  class=\"about-video  p-relative\">\\r\\n                        <img src=\"assets/WebP/milan.webp\" class=\"img-fluid\" alt=\"\">\\r\\n                        <a href=\"https://youtu.be/rXa6WqEP3ww\" class=\"play-btn mb-4 vbox-item\" data-vbtype=\"video\" data-autoplay=\"true\" target=\"_blank\"></a>\\r\\n                     </div>\\r\\n                  </div>\\r\\n                  <div class=\"d-flex align-items-center col-lg-5 col-md-5 col-sm-12 col-xs-12\">\\r\\n                     <div class=\"video-details\">\\r\\n                        <p class=\"justify-content\">\\r\\n                           Milan comes from a life of adversity. His father is an auto-rickshaw driver who works day and night to make ends meet. In his auto-rickshaw, Milan\\'s father used to take several affluent kids to school everyday, and outside that private school, he used to shake his head thinking his children will never be able to go to such a good school. All that changed when Milan was selected into the Sitare Foundation. Today his father proudly brings his son to the same school sometime in his auto-rickshaw.   \\r\\n                        </p>\\r\\n                     </div>\\r\\n                  </div>\\r\\n               </div>\\r\\n            </div>\\r\\n            <div class=\"carousel-item\">\\r\\n               <div class=\"row\">\\r\\n                  <div class=\"col-lg-7 col-md-7 col-sm-12 col-xs-12\">\\r\\n                     <div  class=\"about-video  p-relative\">\\r\\n                        <img src=\"assets/WebP/nisha.webp\" class=\"img-fluid\" alt=\"\">\\r\\n                        <a href=\"https://youtu.be/KMSTBly38I4\" class=\"play-btn mb-4 vbox-item\" data-vbtype=\"video\" data-autoplay=\"true\" target=\"_blank\"></a>\\r\\n                     </div>\\r\\n                  </div>\\r\\n                  <div class=\"d-flex align-items-center col-lg-5 col-md-5 col-sm-12 col-xs-12\">\\r\\n                     <div class=\"video-details\">\\r\\n                        <p class=\"justify-content\">\\r\\n                           Nisha was born and brought up in a small village, Chawandiya (population 2,140) in Nagaur District, Rajasthan. Nisha\\'s father is a farmer and her mother is a housewife who also helps at the farm. Her entire family works on the farm. Nisha had never seen life outside her village until she entered the Sitare program in Jodhpur. And now, she is going places.\\r\\n                           \"Joining the Sitare Foundation was a turning point in my life. Having lived my entire life in a small village, in a family of poor farmers, I moved to the city and started going to an international school.\"\\r\\n                        </p>\\r\\n                     </div>\\r\\n                  </div>\\r\\n               </div>\\r\\n            </div>\\r\\n            <div class=\"carousel-item\">\\r\\n               <div class=\"row\">\\r\\n                  <div class=\"col-lg-7 col-md-7 col-sm-12 col-xs-12\">\\r\\n                     <div  class=\"about-video  p-relative\">\\r\\n                        <img src=\"assets/WebP/urmila.webp\" class=\"img-fluid\" alt=\"\">\\r\\n                        <a href=\"https://youtu.be/EGZuNs5f5Tw\" class=\"play-btn mb-4 vbox-item\" data-vbtype=\"video\" data-autoplay=\"true\" target=\"_blank\"></a>\\r\\n                     </div>\\r\\n                  </div>\\r\\n                  <div class=\"d-flex align-items-center col-lg-5 col-md-5 col-sm-12 col-xs-12\">\\r\\n                     <div class=\"video-details\">\\r\\n                        <p class=\"justify-content\">\\r\\n                           Urmila was born and raised in a small town in Jodhpur District, Western Rajasthan. Urmila\\'s father is a security guard and her mother is a housewife.  She will be the first in her family to attend college, breaking new ground and setting a path for future generations.\\r\\n                           \"Growing up, I witnessed a society where girls were burdened with household chores and forced into early marriages. However, everything changed when I had the opportunity to join the Sitare Foundation.\"\\r\\n                        </p>\\r\\n                     </div>\\r\\n                  </div>\\r\\n               </div>\\r\\n            </div>\\r\\n         </div>\\r\\n         <h6 class=\"green font-weight-bold\"><span class=\"check-stories\">Check other stories &nbsp;&nbsp;</span><span class=\"pl-2\"><i class=\"fas fa-chevron-left\" data-bs-target=\"#carouselExampleControls\" data-bs-slide=\"prev\"></i><span class=\"px-1\"></span> <i class=\"fas fa-chevron-right\" data-bs-target=\"#carouselExampleControls\" data-bs-slide=\"next\"></i></span></h6>\\r\\n      </div>\\r\\n   </div>\\r\\n</div>\\r\\n\\r\\n\\r\\n<div class=\"abt-partner\" id=\"abt-partners\">\\r\\n   <div class=\"container px-5\">\\r\\n      <div class=\"row\">\\r\\n         <div class=\"col-lg-6 col-md-6 col-sm-12 col-xs-12\">\\r\\n            <div class=\"partner-details \">\\r\\n               <p class=\"pt-2\">We Partner With Some Of The Best Private Schools In A City And Provide Our Children With The Education Otherwise Available To Only The Elite Few.</p>\\r\\n            </div>\\r\\n         </div>\\r\\n         <div class=\"col-lg-6 col-md-6 col-sm-12 col-xs-12 pt-0 text-md-center\">\\r\\n            <div class=\"mob-scrn\">\\r\\n               <img src=\"assets/WebP/neww.webp\" alt=\"\">\\r\\n            </div>\\r\\n         </div>\\r\\n      </div>\\r\\n   </div>\\r\\n</div>\\r\\n\\r\\n\\r\\n<div class=\"cities my-4\" id=\"cities\" name=\"cities\">\\r\\n   <div class=\"container\">\\r\\n      <div class=\"abt-cities\">\\r\\n         <div class=\"section-1 pb-5\">\\r\\n            <h3 class=\"text-center color-b mb-0 pb-0\">Cities We Work In</h3>\\r\\n            <div class=\"h-line text-center mt-0 pt-0\">\\r\\n               <span class=\"borderbottom\"></span>\\r\\n            </div>\\r\\n         </div>\\r\\n         <div class=\"row\">\\r\\n            <div class=\"col-lg-4 py-3 \">\\r\\n               <div class=\" shadow\" >\\r\\n                  <img src=\"assets/WebP/Sanskriti.webp\" class=\"card-img-top\" alt=\"...\">\\r\\n                  <div class=\"card-body\">\\r\\n                     <h5 class=\"card-title\">Sanskriti, The School</h5>\\r\\n                     <p class=\"card-text\">Ajmer, Rajasthan</p>\\r\\n                     <a href=\"https://www.sanskrititheschool.org/\" target=\"_blank\">Visit</a>\\r\\n                  </div>\\r\\n               </div>\\r\\n            </div>\\r\\n            <div class=\"col-lg-4 py-3\">\\r\\n               <div class=\" shadow\" >\\r\\n                  <img src=\"assets/WebP/KCS.webp\" class=\"card-img-top\" alt=\"...\">\\r\\n                  <div class=\"card-body\">\\r\\n                     <h5 class=\"card-title\">Kids Club School</h5>\\r\\n                     <p class=\"card-text\">Jaipur, Rajasthan</p>\\r\\n                     <a href=\"https://kidsclubschool.org/\" target=\"_blank\">Visit</a>\\r\\n                  </div>\\r\\n               </div>\\r\\n            </div>\\r\\n            <div class=\"col-lg-4 py-3\">\\r\\n               <div class=\" shadow\" >\\r\\n                  <img src=\"assets/WebP/GVN.webp\" class=\"card-img-top\" alt=\"...\">\\r\\n                  <div class=\"card-body\">\\r\\n                     <h5 class=\"card-title\">GVN The Global School</h5>\\r\\n                     <p class=\"card-text\">Bhopal, Madhya Pradesh</p>\\r\\n                     <a href=\"https://gvnschool.in/\" target=\"_blank\">Visit</a>\\r\\n                  </div>\\r\\n               </div>\\r\\n            </div>\\r\\n         </div>\\r\\n         <div class=\"row\">\\r\\n            <div class=\"col-lg-4 py-3\">\\r\\n               <div class=\" shadow\" >\\r\\n                  <img src=\"assets/WebP/BRB.webp\" class=\"card-img-top\" alt=\"...\">\\r\\n                  <div class=\"card-body\">\\r\\n                     <h5 class=\"card-title\">BR Birla Public School</h5>\\r\\n                     <p class=\"card-text\">Jodhpur, Rajasthan</p>\\r\\n                     <a href=\"https://brbirlaschool.com/\" target=\"_blank\">Visit</a>\\r\\n                  </div>\\r\\n               </div>\\r\\n            </div>\\r\\n            <div class=\"col-lg-4 py-3\">\\r\\n               <div class=\" shadow\" >\\r\\n                  <img src=\"assets/WebP/Millenium.webp\" class=\"card-img-top\" alt=\"...\">\\r\\n                  <div class=\"card-body\">\\r\\n                     <h5 class=\"card-title\">The Millenium School</h5>\\r\\n                     <p class=\"card-text\">Indore, Madhya Pradesh</p>\\r\\n                     <a href=\"http://www.themillenniumschools.com/\" target=\"_blank\">Visit</a>\\r\\n                  </div>\\r\\n               </div>\\r\\n            </div>\\r\\n            <!--div class=\"col-lg-4 pt-3 pb-0\"-->\\r\\n            <div class=\"col-lg-4 py-3\">\\r\\n              <div class=\" shadow\" >\\r\\n                <a href=\"https://www.google.com/maps/d/u/0/viewer?mid=1Oc1PVRkqDTs1X1slVgWFz7u7EqMdnwcd&ll=24.980259970863916%2C75.21435474889171&z=6\" ><img src=\"assets/WebP/Map.webp\" class=\"card-img-top\" alt=\"...\"></a>\\r\\n              </div>\\r\\n            </div>\\r\\n         </div>\\r\\n         \\r\\n        <p class=\"outer-text text-justify pt-5 pb-5 mt-4 mb-4\">We are learning a lot. The challenge of educating underprivileged children is daunting, but that does not and will never deter us. We are taking a scientific,\\r\\n            step-by-step approach to impact lives and societies through education. We aim to educate 50,000 students by 2050. We know that after going through our seven-year program, our students will shine like Sitare (Hindi for Stars),\\r\\n            and inspire millions in their own communities.</p>\\r\\n            \\r\\n        <div class=\"row seniors\">\\r\\n            <div class=\"col-lg-3 col-md-3 col-sm-6 col-xs-6\">\\r\\n                <img src=\"assets/images/OakNorth.png\" height=\"75px\">\\r\\n            </div>\\r\\n            <div class=\"col-lg-9 col-md-9 col-sm-6 col-xs-6\">\\r\\n                We are thankful to OakNorth for sponsoring the education of thirty five underprivileged girls through their CSR program.\\r\\n            </div>\\r\\n        </div>\\r\\n         \\r\\n      </div>\\r\\n   </div>\\r\\n</div>\\r\\n\\r\\n <footer>\\r\\n   <div class=\"footer \">\\r\\n      <div class=\"container\">\\r\\n         <div class=\"footer-inner\">\\r\\n            <div class=\"row  pb-3\">\\r\\n               <div class=\"col-lg-5 pt-4\">\\r\\n                  <h6 class=\"pb-2\">\\r\\n                     Find us on Social Media\\r\\n                     <div class=\"s-h-line mt-2\"></div>\\r\\n                  </h6>\\r\\n                  <ul class=\"d-flex social-icons px-0\">\\r\\n                     <li><a href=\"https://www.facebook.com/SitareFoundation\" target=\"_blank\"><img src=\"assets/images/facebook.svg\"></a></li>\\r\\n                     <li><a href=\"https://www.instagram.com/sitarefdn/\" class=\"px-4\"  target=\"_blank\"><img src=\"assets/images/instagram.svg\"></a></li>\\r\\n                     <li><a href=\"https://twitter.com/sitarefdn\"  target=\"_blank\"><img src=\"assets/images/twitter.svg\"></a></li>\\r\\n                     <li><a href=\"https://www.linkedin.com/company/sitare-foundation/\" class=\"px-4\"  target=\"_blank\"><img src=\"assets/images/linkedin.svg\"></a></li>\\r\\n                  </ul>\\r\\n               </div>\\r\\n               <div class=\"col-lg-3 pt-4\">\\r\\n                  <a href=\"contact.php\">\\r\\n                     <h6 class=\"pb-1\">\\r\\n                        Contact Us \\r\\n                        <div class=\"s-h-line mt-2\"></div>\\r\\n                     </h6>\\r\\n                  </a>\\r\\n                  <p class=\"mb-0\">INDIA <a href=\"tel:+91 78499 09927\" class=\"px-2\">+91 78499 09927</a></p>\\r\\n                  <p>USA <a href=\"tel:+1-650-305-5721\" class=\"px-2\">+1-650-305-5721</a></p>\\r\\n               </div>\\r\\n               <div class=\"col-lg-4 pt-5\">\\r\\n                  <div class=\"design-details pb-3 text-center\">\\r\\n                     Copyrights &copy 2024                     <a href=\"https://sitare.org/\"><span>Sitare.org</span> <br> All rights reserved</a>\\r\\n                  </div>\\r\\n               </div>\\r\\n            </div>\\r\\n         </div>\\r\\n      </div>\\r\\n   </div>\\r\\n</footer>\\r\\n<!--<script src=\"https://cdn.jsdelivr.net/npm/@popperjs/core@2.10.2/dist/umd/popper.min.js\" integrity=\"sha384-7+zCNj/IqJ95wo16oMtfsKbZ9ccEh31eOz1HGyDuCQ6wgnyJNSYdrPa03rtR1zdB\" crossorigin=\"anonymous\"></script>-->\\r\\n<script src=\"https://cdn.jsdelivr.net/npm/bootstrap@5.1.3/dist/js/bootstrap.min.js\" integrity=\"sha384-QJHtvGhmr9XOIpI6YVutG+2QOK9T+ZnN4kzFN1RtK3zEFEIsxhlmWl5/YESvpZ13\" crossorigin=\"anonymous\"></script>\\r\\n<script src=\"https://cdnjs.cloudflare.com/ajax/libs/jquery/3.6.0/jquery.min.js\" integrity=\"sha512-894YE6QWD5I59HgZOGReFYm4dnWc1Qt5NtvYSaNcOP+u1T9qYdvdihz0PPSiiqn/+/3e7Jo4EaG7TubfWGUrMQ==\" crossorigin=\"anonymous\" referrerpolicy=\"no-referrer\"></script>\\r\\n<script src=\"assets/js/script.js\"></script>\\r\\n<script type=\"text/javascript\">\\r\\n   jQuery(document).ready(function($) {\\r\\n       jQuery(window).scroll(function () {\\r\\n           if (jQuery(this).scrollTop() > 40) {\\r\\n               jQuery(\\'.img-set\\').addClass(\\'small-logo\\');\\r\\n           } else {\\r\\n               jQuery(\\'.img-set\\').removeClass(\\'small-logo\\');\\r\\n           }\\r\\n       });\\r\\n   });\\r\\n   \\r\\n   \\r\\n</script>\\r\\n</body>\\r\\n</html>'"
      ]
     },
     "execution_count": 2,
     "metadata": {},
     "output_type": "execute_result"
    }
   ],
   "source": [
    "\n",
    "url = \"https://sitare.org/\"\n",
    "\n",
    "def fetch_html_content(url):\n",
    "    try:\n",
    "        response = requests.get(url)\n",
    "        return response.text\n",
    "    except requests.exceptions.RequestException as e:\n",
    "        print(f\"Error fetching content: {e}\")\n",
    "        return None\n",
    "data = fetch_html_content(url)\n",
    "data"
   ]
  },
  {
   "cell_type": "code",
   "execution_count": 3,
   "id": "7580a168-a32b-4a0a-b129-eb8e8d25662f",
   "metadata": {},
   "outputs": [],
   "source": [
    "# data=     \"\"\"   <div>\n",
    "#       </nav>\n",
    "#    </div>\n",
    "#    <body> <div class=\"banner-section pt-6 \" style=\"margin-top:0\">\n",
    "#    <div class=\"img-container top-banner\" >\n",
    "#       <div class=\"container\">\n",
    "#          <div class=\"p-relative\" style=\"height: 75vh;\">\n",
    "#             <div class=\"img-txt col-sm-3 offset-sm-9\">\n",
    "#                <h4 class=\" text-left\">Our humble mission</h4>\n",
    "#                <p></p>\n",
    "#                <h1 class=\" text-left\">Transform fifty thousand lives through education by 2050.</h1>\n",
    "#             </div>\n",
    "#          </div>\n",
    "#       </div>\n",
    "#    </div>\n",
    "# </div>\n",
    "# \"\"\"\n"
   ]
  },
  {
   "cell_type": "code",
   "execution_count": 41,
   "id": "3f2a0a26-6bb4-4c86-ab1b-9a5cdc419bad",
   "metadata": {},
   "outputs": [],
   "source": [
    "def checkLinks(tag):\n",
    "    start = tag.find('<a href')\n",
    "    isLink = tag.find('http', start+7) != -1\n",
    "    if start != -1 and isLink :\n",
    "        first_quatation = tag.find('\"',start+6)\n",
    "        second_quatation = tag.find('\"',first_quatation+1 )\n",
    "        print(tag[first_quatation +1 :second_quatation])\n"
   ]
  },
  {
   "cell_type": "code",
   "execution_count": 48,
   "id": "1436712c-d6ac-4c25-9cbf-db2aadbaa889",
   "metadata": {},
   "outputs": [],
   "source": [
    "def extract_webpage(data):\n",
    "    result = \"\"\n",
    "    tag = \"\"\n",
    "    isTitle = False\n",
    "    isBody = False\n",
    "    isTagOpen = False\n",
    "    \n",
    "    for i in range(len(data)):\n",
    "        if data[i] == '<':\n",
    "            isTagOpen = True\n",
    "            \n",
    "        elif data[i] == '>':\n",
    "            isTagOpen = False\n",
    "\n",
    "        if isTagOpen :\n",
    "            tag += data[i]\n",
    "            \n",
    "        elif not isTagOpen :\n",
    "            checkLinks(tag)\n",
    "            # if tag != \"\":\n",
    "            #     print(tag)\n",
    "            if tag == '<title':\n",
    "                isTitle = True\n",
    "            elif tag == '</title':\n",
    "                isTitle = False\n",
    "            elif tag == \"<body\":\n",
    "                isBody = True\n",
    "            elif tag == '</body':\n",
    "                isBody = False\n",
    "                \n",
    "            if isBody or isTitle :\n",
    "               \n",
    "                # if not (data[i] == \" \" and result[-1] == \" \"):\n",
    "                #     result = result + data[i]\n",
    "                if data[i] not in ['\\r','\\n','>']:\n",
    "                    result = result + data[i]\n",
    "            tag = \"\"\n",
    "    \n",
    "    return result"
   ]
  },
  {
   "cell_type": "code",
   "execution_count": 49,
   "id": "dff25acf-40a6-4c39-9f51-b87bec69a786",
   "metadata": {
    "scrolled": true
   },
   "outputs": [
    {
     "name": "stdout",
     "output_type": "stream",
     "text": [
      "https://sitare.org/univ\n",
      "https://youtu.be/VZg4VAyUjVs\n",
      "https://youtu.be/NDPGA0gC7oo\n",
      "https://youtu.be/rXa6WqEP3ww\n",
      "https://youtu.be/KMSTBly38I4\n",
      "https://youtu.be/EGZuNs5f5Tw\n",
      "https://www.sanskrititheschool.org/\n",
      "https://kidsclubschool.org/\n",
      "https://gvnschool.in/\n",
      "https://brbirlaschool.com/\n",
      "http://www.themillenniumschools.com/\n",
      "https://www.google.com/maps/d/u/0/viewer?mid=1Oc1PVRkqDTs1X1slVgWFz7u7EqMdnwcd&ll=24.980259970863916%2C75.21435474889171&z=6\n",
      "https://www.facebook.com/SitareFoundation\n",
      "https://www.instagram.com/sitarefdn/\n",
      "https://twitter.com/sitarefdn\n",
      "https://www.linkedin.com/company/sitare-foundation/\n",
      "https://sitare.org/\n"
     ]
    },
    {
     "data": {
      "text/plain": [
       "'Sitare Foundation | Education NGO by Shilpa and Amit Singhal\\r\\n \\r\\n \\r\\n \\r\\n \\r\\n Our humble mission\\r\\n \\r\\n Transform fifty thousand lives through education by 2050.\\r\\n \\r\\n \\r\\n \\r\\n \\r\\n\\r\\n\\r\\n\\r\\n \\r\\n \\r\\n \\r\\n \\r\\n \\r\\n \\r\\n Sitare University - FREE Computer Science B.Tech. degrees to talented students.&nbsp;\\r\\n \\r\\n Education is empowerment. Education gives us hope. Education has the power to uplift not only individuals, but the entire world. In today world, good education is not always accessible to the underprivileged in our society. There is tremendous potential and talent in these children, all they need is access to good education. At the Sitare Foundation, we believe in providing access to high quality education to the most talented underprivileged children in our society. We have embarked upon a humble mission. Our mission is to “Transform fifty thousand lives through education by 2050.”\\r\\n \\r\\n \\r\\n Get in touch\\r\\n \\r\\n \\r\\n \\r\\n \\r\\n \\r\\n \\r\\n \\r\\n \\r\\n \\r\\n Barack Obama\\r\\n 44th President of the United States\\r\\n \\r\\n \\r\\n \\r\\n \\r\\n \"The best anti-poverty program is a world-class education.\"\\r\\n \\r\\n \\r\\n \\r\\n \\r\\n \\r\\n \\r\\n\\r\\n\\r\\n\\r\\n \\r\\n \\r\\n \\r\\n Transforming Lives\\r\\n \\r\\n \\r\\n \\r\\n \\r\\n \\r\\n \\r\\n \\r\\n \\r\\n \\r\\n \\r\\n \\r\\n \\r\\n \\r\\n \\r\\n \\r\\n \\r\\n \\r\\n Mahendra was born and raised in a small town, Chohtan in Barmer District, Western Rajasthan. His father works in a sheet metal factory rolling stainless steel sheets. His elder brother also works in the same factory. They have a very large family to support, and if Mahendra didn\\'t get an opportunity to study in Sitare Foundation, he would probably be working in the same factory today to support his family. \"I got an opportunity to be a part of the organization where I met some of the most motivated young people, who were nurtured by the Sitare Foundation to dream higher.\"\\r\\n \\r\\n \\r\\n \\r\\n \\r\\n \\r\\n \\r\\n \\r\\n \\r\\n \\r\\n \\r\\n \\r\\n \\r\\n \\r\\n \\r\\n \\r\\n \\r\\n Kusum is a poor farmer\\'s daughter. Her family does not own the land they farm, they just work there, while the landowner keeps the lion share of the earnings. They only get 30 cents on a dollar of crops sold. \\r\\n \"In my community, women are seldom sent to school, but my parents believe in education. They knew that education, especially women\\'s education, is the only way out of generational poverty. For me, the path to education was never easy. From a young age, I have contributed to the farm work, from milking cows, to cooking, tilling the fields, I did whatever was needed to help my family.\"\\r\\n \\r\\n \\r\\n \\r\\n \\r\\n \\r\\n \\r\\n \\r\\n \\r\\n \\r\\n \\r\\n \\r\\n \\r\\n \\r\\n \\r\\n \\r\\n \\r\\n Milan comes from a life of adversity. His father is an auto-rickshaw driver who works day and night to make ends meet. In his auto-rickshaw, Milan\\'s father used to take several affluent kids to school everyday, and outside that private school, he used to shake his head thinking his children will never be able to go to such a good school. All that changed when Milan was selected into the Sitare Foundation. Today his father proudly brings his son to the same school sometime in his auto-rickshaw. \\r\\n \\r\\n \\r\\n \\r\\n \\r\\n \\r\\n \\r\\n \\r\\n \\r\\n \\r\\n \\r\\n \\r\\n \\r\\n \\r\\n \\r\\n \\r\\n \\r\\n Nisha was born and brought up in a small village, Chawandiya (population 2,140) in Nagaur District, Rajasthan. Nisha\\'s father is a farmer and her mother is a housewife who also helps at the farm. Her entire family works on the farm. Nisha had never seen life outside her village until she entered the Sitare program in Jodhpur. And now, she is going places.\\r\\n \"Joining the Sitare Foundation was a turning point in my life. Having lived my entire life in a small village, in a family of poor farmers, I moved to the city and started going to an international school.\"\\r\\n \\r\\n \\r\\n \\r\\n \\r\\n \\r\\n \\r\\n \\r\\n \\r\\n \\r\\n \\r\\n \\r\\n \\r\\n \\r\\n \\r\\n \\r\\n \\r\\n Urmila was born and raised in a small town in Jodhpur District, Western Rajasthan. Urmila\\'s father is a security guard and her mother is a housewife. She will be the first in her family to attend college, breaking new ground and setting a path for future generations.\\r\\n \"Growing up, I witnessed a society where girls were burdened with household chores and forced into early marriages. However, everything changed when I had the opportunity to join the Sitare Foundation.\"\\r\\n \\r\\n \\r\\n \\r\\n \\r\\n \\r\\n \\r\\n Check other stories &nbsp;&nbsp; \\r\\n \\r\\n \\r\\n\\r\\n\\r\\n\\r\\n\\r\\n \\r\\n \\r\\n \\r\\n \\r\\n We Partner With Some Of The Best Private Schools In A City And Provide Our Children With The Education Otherwise Available To Only The Elite Few.\\r\\n \\r\\n \\r\\n \\r\\n \\r\\n \\r\\n \\r\\n \\r\\n \\r\\n \\r\\n\\r\\n\\r\\n\\r\\n\\r\\n \\r\\n \\r\\n \\r\\n Cities We Work In\\r\\n \\r\\n \\r\\n \\r\\n \\r\\n \\r\\n \\r\\n \\r\\n \\r\\n \\r\\n Sanskriti, The School\\r\\n Ajmer, Rajasthan\\r\\n Visit\\r\\n \\r\\n \\r\\n \\r\\n \\r\\n \\r\\n \\r\\n \\r\\n Kids Club School\\r\\n Jaipur, Rajasthan\\r\\n Visit\\r\\n \\r\\n \\r\\n \\r\\n \\r\\n \\r\\n \\r\\n \\r\\n GVN The Global School\\r\\n Bhopal, Madhya Pradesh\\r\\n Visit\\r\\n \\r\\n \\r\\n \\r\\n \\r\\n \\r\\n \\r\\n \\r\\n \\r\\n \\r\\n BR Birla Public School\\r\\n Jodhpur, Rajasthan\\r\\n Visit\\r\\n \\r\\n \\r\\n \\r\\n \\r\\n \\r\\n \\r\\n \\r\\n The Millenium School\\r\\n Indore, Madhya Pradesh\\r\\n Visit\\r\\n \\r\\n \\r\\n \\r\\n \\r\\n \\r\\n \\r\\n \\r\\n \\r\\n \\r\\n \\r\\n \\r\\n We are learning a lot. The challenge of educating underprivileged children is daunting, but that does not and will never deter us. We are taking a scientific,\\r\\n step-by-step approach to impact lives and societies through education. We aim to educate 50,000 students by 2050. We know that after going through our seven-year program, our students will shine like Sitare (Hindi for Stars),\\r\\n and inspire millions in their own communities.\\r\\n \\r\\n \\r\\n \\r\\n \\r\\n \\r\\n \\r\\n We are thankful to OakNorth for sponsoring the education of thirty five underprivileged girls through their CSR program.\\r\\n \\r\\n \\r\\n \\r\\n \\r\\n \\r\\n\\r\\n\\r\\n \\r\\n \\r\\n \\r\\n \\r\\n \\r\\n \\r\\n \\r\\n Find us on Social Media\\r\\n \\r\\n \\r\\n \\r\\n \\r\\n \\r\\n \\r\\n \\r\\n \\r\\n \\r\\n \\r\\n \\r\\n \\r\\n Contact Us \\r\\n \\r\\n \\r\\n \\r\\n INDIA +91 78499 09927\\r\\n USA +1-650-305-5721\\r\\n \\r\\n \\r\\n \\r\\n Copyrights &copy 2024 Sitare.org All rights reserved\\r\\n \\r\\n \\r\\n \\r\\n \\r\\n \\r\\n \\r\\n\\r\\n--\\r\\n\\r\\n\\r\\n\\r\\n\\r\\n jQuery(document).ready(function($) {\\r\\n jQuery(window).scroll(function () {\\r\\n if (jQuery(this).scrollTop() 40) {\\r\\n jQuery(\\'.img-set\\').addClass(\\'small-logo\\');\\r\\n } else {\\r\\n jQuery(\\'.img-set\\').removeClass(\\'small-logo\\');\\r\\n }\\r\\n });\\r\\n });\\r\\n \\r\\n \\r\\n\\r\\n'"
      ]
     },
     "execution_count": 49,
     "metadata": {},
     "output_type": "execute_result"
    }
   ],
   "source": [
    "extract_webpage(data)"
   ]
  },
  {
   "cell_type": "code",
   "execution_count": null,
   "id": "21b8da4d-662c-49ac-8785-21742c7ad693",
   "metadata": {},
   "outputs": [],
   "source": [
    "\n"
   ]
  },
  {
   "cell_type": "code",
   "execution_count": null,
   "id": "f213860c-a045-4585-97e7-c99f78b942d0",
   "metadata": {},
   "outputs": [],
   "source": []
  },
  {
   "cell_type": "code",
   "execution_count": null,
   "id": "6b5b46bb-7ea0-4d7f-a463-3aa6b662b543",
   "metadata": {},
   "outputs": [],
   "source": []
  },
  {
   "cell_type": "code",
   "execution_count": null,
   "id": "f78cb67d-dabb-46e4-9357-bedf0aac3c3c",
   "metadata": {},
   "outputs": [],
   "source": []
  },
  {
   "cell_type": "code",
   "execution_count": null,
   "id": "271795f9-c017-4d26-94f6-e41492c4bfd9",
   "metadata": {},
   "outputs": [],
   "source": []
  }
 ],
 "metadata": {
  "kernelspec": {
   "display_name": "Python 3 (ipykernel)",
   "language": "python",
   "name": "python3"
  },
  "language_info": {
   "codemirror_mode": {
    "name": "ipython",
    "version": 3
   },
   "file_extension": ".py",
   "mimetype": "text/x-python",
   "name": "python",
   "nbconvert_exporter": "python",
   "pygments_lexer": "ipython3",
   "version": "3.10.12"
  },
  "widgets": {
   "application/vnd.jupyter.widget-state+json": {
    "state": {},
    "version_major": 2,
    "version_minor": 0
   }
  }
 },
 "nbformat": 4,
 "nbformat_minor": 5
}
